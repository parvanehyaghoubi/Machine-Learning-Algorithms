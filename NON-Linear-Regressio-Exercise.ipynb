{
 "cells": [
  {
   "cell_type": "code",
   "execution_count": 35,
   "id": "fd113129-eb89-4826-b8c9-c8fd773af385",
   "metadata": {},
   "outputs": [],
   "source": [
    "x_mean = np.mean(x)\n",
    "x_std = np.std(x)\n",
    "stan = (x - x_mean) / x_std\n",
    "destan = stan * x_std + x_mean"
   ]
  },
  {
   "cell_type": "code",
   "execution_count": 41,
   "id": "b7ce49f3-e4a2-4ce0-8b0f-5d9436666d75",
   "metadata": {},
   "outputs": [
    {
     "name": "stderr",
     "output_type": "stream",
     "text": [
      "C:\\Users\\01.03\\AppData\\Local\\Temp\\ipykernel_9484\\175924023.py:1: RuntimeWarning: divide by zero encountered in log\n",
      "  logit = np.log(ydata)/1-ydata\n"
     ]
    }
   ],
   "source": [
    "logit = np.log(ydata)/1-ydata\n"
   ]
  },
  {
   "cell_type": "code",
   "execution_count": 66,
   "id": "f48c74cc-da37-41df-a94c-48cac0bd4973",
   "metadata": {},
   "outputs": [
    {
     "name": "stdout",
     "output_type": "stream",
     "text": [
      " a = 7.18056955932655, b = 0.6201861097483007\n"
     ]
    },
    {
     "data": {
      "image/png": "[encoded data removed]",
      "text/plain": [
       "<Figure size 640x480 with 1 Axes>"
      ]
     },
     "metadata": {},
     "output_type": "display_data"
    }
   ],
   "source": [
    "import numpy as np\n",
    "import pandas as pd\n",
    "import matplotlib.pyplot as plt\n",
    "\n",
    "df = pd.read_csv('Countries-GDP-1960-2020.csv')\n",
    "y = np.array(df.iloc[3][2:], dtype=np.float64)\n",
    "x = np.arange(1960, 2021)\n",
    "\n",
    "def sigmoid(x, a, b):\n",
    "    y = 1 / (1 + np.exp(-a * (x - b)))\n",
    "    return y\n",
    "\n",
    "xdata = (x - x.min()) / (x.max() - x.min())\n",
    "ydata = (y - y.min()) / (y.max() - y.min())\n",
    "\n",
    "from scipy.optimize import curve_fit\n",
    "popt, pcov = curve_fit(sigmoid, xdata, ydata)\n",
    "print(f\" a = {popt[0]}, b = {popt[1]}\")\n",
    "\n",
    "def ReLU(y):\n",
    "    if y > 0:\n",
    "    \treturn y\n",
    "    else:\n",
    "    \treturn 0\n",
    "\n",
    "# y_ = ReLU(y)\n",
    "# y__ = y_.all()\n",
    "x_reg = np.arange(0,  1.3, 0.1)\n",
    "\n",
    "# x_denorm = (xdata * (x.max() - x.min()) + x.min())\n",
    "y_reg = sigmoid(x_reg, *popt)\n",
    "logit = np.log(y_reg)/1-y_reg\n",
    "# std_orig = np.std(x)\n",
    "# mean_orig = np.mean(x)\n",
    "popt_denorm = popt * x_std + x_mean\n",
    "# y_denorm = sigmoid(x, *popt_denorm)\n",
    "# y_2027 = sigmoid(2027, *popt_denorm)\n",
    "# y_2027\n",
    "x2027 = (2027 - x.min()) / (x.max() - x.min())\n",
    "x_2027 = (x2027 * (x.max() - x.min()) + x.min())\n",
    "plt.scatter(xdata, ydata, color='crimson', label='Real')\n",
    "plt.plot(x_reg, y_reg, lw=3, label='Predicted', color='black')\n",
    "# plt.scatter(x_2027, sigmoid(x_2027 , *popt), color='blue', label='2021')\n",
    "plt.legend()\n",
    "plt.xlabel('Year')\n",
    "plt.ylabel('GDP')\n",
    "plt.show()"
   ]
  },
  {
   "cell_type": "code",
   "execution_count": 67,
   "id": "ea2d3979-601c-42e8-9ed9-5572f64da2c8",
   "metadata": {},
   "outputs": [
    {
     "ename": "ValueError",
     "evalue": "operands could not be broadcast together with shapes (61,) (13,) ",
     "output_type": "error",
     "traceback": [
      "\u001b[1;31m---------------------------------------------------------------------------\u001b[0m",
      "\u001b[1;31mValueError\u001b[0m                                Traceback (most recent call last)",
      "Cell \u001b[1;32mIn[67], line 1\u001b[0m\n\u001b[1;32m----> 1\u001b[0m MSE \u001b[38;5;241m=\u001b[39m (np\u001b[38;5;241m.\u001b[39msum(\u001b[43mydata\u001b[49m\u001b[43m \u001b[49m\u001b[38;5;241;43m-\u001b[39;49m\u001b[43m \u001b[49m\u001b[43my_reg\u001b[49m) \u001b[38;5;241m*\u001b[39m\u001b[38;5;241m*\u001b[39m \u001b[38;5;241m2\u001b[39m) \u001b[38;5;241m/\u001b[39m x\u001b[38;5;241m.\u001b[39msize\n\u001b[0;32m      2\u001b[0m MSE\n",
      "\u001b[1;31mValueError\u001b[0m: operands could not be broadcast together with shapes (61,) (13,) "
     ]
    }
   ],
   "source": [
    "MSE = (np.sum(ydata - y_reg) ** 2) / x.size\n",
    "MSE"
   ]
  },
  {
   "cell_type": "code",
   "execution_count": null,
   "id": "3c5d891a-f35e-4bdf-a230-a8c37623dcae",
   "metadata": {},
   "outputs": [],
   "source": [
    "import numpy as np\n",
    "import pandas as pd\n",
    "import matplotlib.pyplot as plt\n",
    "\n",
    "df = pd.read_csv('Countries-GDP-1960-2020.csv')\n",
    "y = np.array(df.iloc[3][2:], dtype=np.float64)\n",
    "x = np.arange(1960, 2021)\n",
    "\n",
    "def sigmoid(x, a, b):\n",
    "    y = a + (b 1 / (1 + np.exp(-a * (x - b)))\n",
    "    return y\n",
    "\n",
    "xdata = (x - x.min()) / (x.max() - x.min())\n",
    "ydata = (y - y.min()) / (y.max() - y.min())\n",
    "\n",
    "from scipy.optimize import curve_fit\n",
    "popt, pcov = curve_fit(sigmoid, xdata, ydata)\n",
    "print(f\" a = {popt[0]}, b = {popt[1]}\")\n",
    "\n",
    "def ReLU(y):\n",
    "    if y > 0:\n",
    "    \treturn y\n",
    "    else:\n",
    "    \treturn 0\n",
    "\n",
    "# y_ = ReLU(y)\n",
    "# y__ = y_.all()\n",
    "x_reg = np.arange(0,  1.3, 0.1)\n",
    "\n",
    "# x_denorm = (xdata * (x.max() - x.min()) + x.min())\n",
    "y_reg = sigmoid(x_reg, *popt)\n",
    "logit = np.log(y_reg)/1-y_reg\n",
    "# std_orig = np.std(x)\n",
    "# mean_orig = np.mean(x)\n",
    "popt_denorm = popt * x_std + x_mean\n",
    "# y_denorm = sigmoid(x, *popt_denorm)\n",
    "# y_2027 = sigmoid(2027, *popt_denorm)\n",
    "# y_2027\n",
    "x2027 = (2027 - x.min()) / (x.max() - x.min())\n",
    "x_2027 = (x2027 * (x.max() - x.min()) + x.min())\n",
    "plt.scatter(xdata, ydata, color='crimson', label='Real')\n",
    "plt.plot(x_reg, y_reg, lw=3, label='Predicted', color='black')\n",
    "# plt.scatter(x_2027, sigmoid(x_2027 , *popt), color='blue', label='2021')\n",
    "plt.legend()\n",
    "plt.xlabel('Year')\n",
    "plt.ylabel('GDP')\n",
    "plt.show()"
   ]
  },
  {
   "cell_type": "code",
   "execution_count": null,
   "id": "3ef1800b-c2e8-4259-81fb-97e39c76f935",
   "metadata": {},
   "outputs": [],
   "source": []
  }
 ],
 "metadata": {
  "kernelspec": {
   "display_name": "Python 3 (ipykernel)",
   "language": "python",
   "name": "python3"
  },
  "language_info": {
   "codemirror_mode": {
    "name": "ipython",
    "version": 3
   },
   "file_extension": ".py",
   "mimetype": "text/x-python",
   "name": "python",
   "nbconvert_exporter": "python",
   "pygments_lexer": "ipython3",
   "version": "3.11.2"
  }
 },
 "nbformat": 4,
 "nbformat_minor": 5
}
